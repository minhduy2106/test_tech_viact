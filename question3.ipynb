{
 "cells": [
  {
   "cell_type": "markdown",
   "metadata": {},
   "source": [
    "# A."
   ]
  },
  {
   "cell_type": "code",
   "execution_count": 1,
   "metadata": {},
   "outputs": [],
   "source": [
    "def parse_file(hierarchy_file, id_to_name_file):\n",
    "    hierarchy = {}\n",
    "    id_to_name = {}\n",
    "\n",
    "    with open(hierarchy_file, \"r\") as f:\n",
    "        for line in f:\n",
    "            parent, child = line.strip().split()\n",
    "            hierarchy[child] = parent\n",
    "    \n",
    "    with open(id_to_name_file, \"r\") as f:\n",
    "        for line in f:\n",
    "            id, name = line.split(\"\\t\")\n",
    "            id_to_name[id] = name\n",
    "    return hierarchy, id_to_name"
   ]
  },
  {
   "cell_type": "code",
   "execution_count": 2,
   "metadata": {},
   "outputs": [],
   "source": [
    "def create_data_structure(hierarchy):\n",
    "    data_structure = {}\n",
    "\n",
    "    for child, parent in hierarchy.items():\n",
    "        if parent not in data_structure:\n",
    "            data_structure[parent] = {'parent': None, 'siblings': [], 'children': [child]}\n",
    "        else:\n",
    "            data_structure[parent]['children'].append(child)\n",
    "    \n",
    "        if child not in data_structure:\n",
    "            data_structure[child] = {'parent': parent, 'siblings': [], 'children': []}\n",
    "        else:\n",
    "            data_structure[child]['parent'] = parent\n",
    "        \n",
    "        for sibling in data_structure[parent]['children']:\n",
    "            if sibling != child:\n",
    "                data_structure[child]['siblings'].append(sibling)\n",
    "\n",
    "    return data_structure"
   ]
  },
  {
   "cell_type": "code",
   "execution_count": 5,
   "metadata": {},
   "outputs": [],
   "source": [
    "class ClassHierarchy:\n",
    "    def __init__(self, data_structure):\n",
    "        self.data_structure = data_structure\n",
    "\n",
    "    def get_siblings(self, class_name):\n",
    "        return self.data_structure[class_name]['siblings']\n",
    "\n",
    "    def get_parent(self, class_name):\n",
    "        return self.data_structure[class_name]['parent']\n",
    "\n",
    "    def get_ancestors(self, class_name):\n",
    "        ancestors = []\n",
    "        parent = self.get_parent(class_name)\n",
    "        while parent is not None:\n",
    "            ancestors.append(parent)\n",
    "            parent = self.get_parent(parent)\n",
    "        return ancestors\n",
    "\n",
    "    def is_same_ancestor(self, class1, class2):\n",
    "        return bool(set(self.get_ancestors(class1)) & set(self.get_ancestors(class2)))\n"
   ]
  },
  {
   "cell_type": "code",
   "execution_count": 7,
   "metadata": {},
   "outputs": [],
   "source": [
    "hierarchy, id_to_name = parse_file('hierarchy.txt', 'id_to_name.txt')\n",
    "data_structure = create_data_structure(hierarchy)\n",
    "class_hierarchy = ClassHierarchy(data_structure)\n"
   ]
  },
  {
   "cell_type": "code",
   "execution_count": 10,
   "metadata": {},
   "outputs": [
    {
     "name": "stdout",
     "output_type": "stream",
     "text": [
      "Siblings of n02118333: ['n02115335', 'n02117135', 'n02083672', 'n02115096']\n",
      "Parent of n02118333: n02083346\n",
      "Ancestors of n02118333: ['n02083346', 'n02075296', 'n01886756', 'n01861778', 'n01471682', 'n01466257', 'n00015388', 'n00004475', 'n00004258', 'n00003553', 'n00002684', 'n00001930', 'n00001740']\n"
     ]
    }
   ],
   "source": [
    "class_name = 'n02118333'\n",
    "\n",
    "print(f\"Siblings of {class_name}: {class_hierarchy.get_siblings(class_name)}\")\n",
    "\n",
    "print(f\"Parent of {class_name}: {class_hierarchy.get_parent(class_name)}\")\n",
    "\n",
    "print(f\"Ancestors of {class_name}: {class_hierarchy.get_ancestors(class_name)}\")"
   ]
  },
  {
   "cell_type": "markdown",
   "metadata": {},
   "source": [
    "# B.\n",
    "1. Binary CrossEntropy Loss\n",
    "2. Hierarchical Softmax Loss\n",
    "3. Focal Loss"
   ]
  },
  {
   "cell_type": "markdown",
   "metadata": {},
   "source": [
    "# C."
   ]
  },
  {
   "cell_type": "code",
   "execution_count": 13,
   "metadata": {},
   "outputs": [],
   "source": [
    "# NMS base\n",
    "import numpy as np\n",
    "\n",
    "def non_max_suppression(boxes, scores, threshold):\n",
    "    x1 = boxes[:, 0]\n",
    "    y1 = boxes[:, 1]\n",
    "    x2 = boxes[:, 2]\n",
    "    y2 = boxes[:, 3]\n",
    "\n",
    "    areas = (x2 - x1 + 1) * (y2 - y1 + 1)\n",
    "    order = scores.argsort()[::-1]\n",
    "\n",
    "    keep = []\n",
    "    while order.size > 0:\n",
    "        i = order[0]\n",
    "        keep.append(i)\n",
    "        \n",
    "        xx1 = np.maximum(x1[i], x1[order[1:]])\n",
    "        yy1 = np.maximum(y1[i], y1[order[1:]])\n",
    "        xx2 = np.minimum(x2[i], x2[order[1:]])\n",
    "        yy2 = np.minimum(y2[i], y2[order[1:]])\n",
    "        \n",
    "        w = np.maximum(0.0, xx2 - xx1 + 1)\n",
    "        h = np.maximum(0.0, yy2 - yy1 + 1)\n",
    "        \n",
    "        inter = w * h\n",
    "        ovr = inter / (areas[i] + areas[order[1:]] - inter)\n",
    "        \n",
    "        inds = np.where(ovr <= threshold)[0]\n",
    "        order = order[inds + 1]\n",
    "    \n",
    "    return keep\n",
    "\n"
   ]
  },
  {
   "cell_type": "code",
   "execution_count": 14,
   "metadata": {},
   "outputs": [],
   "source": [
    "# 1. Select boxes with confidence threshold that exceed a threshold\n",
    "# 2. For highly overlapped boxes that belong to the same class, eliminate the one with\n",
    "# lower confidence\n",
    "# 3. For highly overlapped boxes that belong to different classes, eliminate the one that is\n",
    "# the parent class of another box. For instance, box1 (Apple) and box2 (Fruit) are\n",
    "# highly overlapped. Box 2 should be eliminated since box2 is a parent class of box1\n",
    "# 4. The NMS function should accept arguments:\n",
    "# i) bounding box proposals\n",
    "# ii) scores/confidence\n",
    "# iii) class\n",
    "# iv) class hierarchy\n",
    "# v) score threshold\n",
    "# vi) iou threshold\n",
    "\n",
    "def non_max_suppression(boxes, scores, classes, class_hierarchy, threshold, confidence_threshold, iou_threshold):\n",
    "\n",
    "    # Dựa trên mức threshold. Nó tìm trên mức threshold exceed là \"confidence_threshold\"\n",
    "    indices = np.where(scores >= confidence_threshold)[0]\n",
    "    boxes = boxes[indices]\n",
    "    scores = scores[indices]\n",
    "    classes = classes[indices]\n",
    "    \n",
    "    x1 = boxes[:, 0]\n",
    "    y1 = boxes[:, 1]\n",
    "    x2 = boxes[:, 2]\n",
    "    y2 = boxes[:, 3]\n",
    "    \n",
    "    areas = (x2 - x1 + 1) * (y2 - y1 + 1)\n",
    "    order = scores.argsort()[::-1]\n",
    "    \n",
    "    keep = []\n",
    "    while order.size > 0:\n",
    "        i = order[0]\n",
    "        keep.append(indices[i])\n",
    "        \n",
    "        xx1 = np.maximum(x1[i], x1[order[1:]])\n",
    "        yy1 = np.maximum(y1[i], y1[order[1:]])\n",
    "        xx2 = np.minimum(x2[i], x2[order[1:]])\n",
    "        yy2 = np.minimum(y2[i], y2[order[1:]])\n",
    "        # tính toán toạ độ của khu vực giao nhau giữa box(i) với box còn lại\n",
    "        \n",
    "        w = np.maximum(0.0, xx2 - xx1 + 1)\n",
    "        h = np.maximum(0.0, yy2 - yy1 + 1)\n",
    "        # lấy max\n",
    "        \n",
    "        inter = w * h\n",
    "        iou = inter / (areas[i] + areas[order[1:]] - inter)\n",
    "        #tính toán IOU giữa box chọn vs box còn lại\n",
    "        \n",
    "        diff_class_indices = np.where(classes[order[1:]] != classes[i])[0]\n",
    "        diff_class_order = order[diff_class_indices + 1]\n",
    "        diff_class_iou = iou[diff_class_indices]\n",
    "        \n",
    "        if len(diff_class_order) > 0:\n",
    "            parent_classes = [class_hierarchy.get(classes[c], classes[c]) for c in diff_class_order]\n",
    "            parent_indices = np.where(np.isin(classes[order[1:]], parent_classes))[0]\n",
    "            parent_order = order[parent_indices + 1]\n",
    "            parent_iou = iou[parent_indices]\n",
    "            \n",
    "            eliminate = np.logical_and(diff_class_iou > iou_threshold, parent_iou > iou_threshold)\n",
    "            eliminate_indices = diff_class_order[eliminate]\n",
    "            \n",
    "            order = np.delete(order, eliminate_indices)\n",
    "            iou = np.delete(iou, eliminate_indices)\n",
    "\n",
    "        #loại bỏ các box chồng chéo và thuộc các layer khác nhau. \n",
    "        # kiểm tra xem có bất kì biox nào thuộc các lớp khác ko. có thì tạo 1 list lớp parent bằng class_hierarchy.\n",
    "        # tìm các box còn lại ('order[1:]') có lớp cha trùng với lớp cha trong 'parent_class'\n",
    "        # cập nhật order vs iou\n",
    "        \n",
    "        inds = np.where(iou <= threshold)[0]\n",
    "        order = order[inds + 1]\n",
    "        #chỉ các box có giá trị IOU dưới ngưỡng threshold cập nhật mảng order\n",
    "    \n",
    "    return keep"
   ]
  },
  {
   "cell_type": "code",
   "execution_count": null,
   "metadata": {},
   "outputs": [],
   "source": []
  }
 ],
 "metadata": {
  "kernelspec": {
   "display_name": "Python 3",
   "language": "python",
   "name": "python3"
  },
  "language_info": {
   "codemirror_mode": {
    "name": "ipython",
    "version": 3
   },
   "file_extension": ".py",
   "mimetype": "text/x-python",
   "name": "python",
   "nbconvert_exporter": "python",
   "pygments_lexer": "ipython3",
   "version": "3.10.9"
  },
  "orig_nbformat": 4
 },
 "nbformat": 4,
 "nbformat_minor": 2
}
